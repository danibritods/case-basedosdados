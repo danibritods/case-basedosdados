{
 "cells": [
  {
   "cell_type": "markdown",
   "metadata": {},
   "source": [
    "## Getting the Sistema de Informações sobre Mortalidade (SIM) dataset\n",
    "\n",
    "### Firstly we're going to access the microdata columns and their data dictionary to understand the available features and select the most interesting to our exploration. "
   ]
  },
  {
   "cell_type": "code",
   "execution_count": 1,
   "metadata": {},
   "outputs": [],
   "source": [
    "import basedosdados as bd"
   ]
  },
  {
   "cell_type": "code",
   "execution_count": 44,
   "metadata": {},
   "outputs": [
    {
     "name": "stderr",
     "output_type": "stream",
     "text": [
      "Downloading: 0rows [00:00, ?rows/s]\n"
     ]
    },
    {
     "data": {
      "text/plain": [
       "Index(['ano', 'sigla_uf', 'sequencial_obito', 'tipo_obito', 'causa_basica',\n",
       "       'data_obito', 'hora_obito', 'naturalidade', 'data_nascimento', 'idade',\n",
       "       'sexo', 'raca_cor', 'estado_civil', 'escolaridade', 'ocupacao',\n",
       "       'codigo_bairro_residencia', 'id_municipio_residencia',\n",
       "       'local_ocorrencia', 'codigo_bairro_ocorrencia',\n",
       "       'id_municipio_ocorrencia', 'idade_mae', 'escolaridade_mae',\n",
       "       'ocupacao_mae', 'quantidade_filhos_vivos', 'quantidade_filhos_mortos',\n",
       "       'gravidez', 'gestacao', 'parto', 'obito_parto', 'morte_parto', 'peso',\n",
       "       'obito_gravidez', 'obito_puerperio', 'assistencia_medica', 'exame',\n",
       "       'cirurgia', 'necropsia', 'linha_a', 'linha_b', 'linha_c', 'linha_d',\n",
       "       'linha_ii', 'circunstancia_obito', 'acidente_trabalho', 'fonte',\n",
       "       'codigo_estabelecimento', 'atestante', 'data_atestado', 'tipo_pos',\n",
       "       'data_investigacao', 'causa_basica_original', 'data_cadastro',\n",
       "       'fonte_investigacao', 'data_recebimento', 'causa_basica_pre',\n",
       "       'tipo_obito_ocorrencia', 'tipo_morte_ocorrencia',\n",
       "       'data_cadastro_informacao', 'data_cadastro_investigacao',\n",
       "       'id_municipio_svo_iml', 'data_recebimento_original',\n",
       "       'data_recebimento_original_a', 'causa_materna', 'status_do_epidem',\n",
       "       'status_do_nova', 'serie_escolar_falecido', 'serie_escolar_mae',\n",
       "       'escolaridade_2010', 'escolaridade_mae_2010',\n",
       "       'escolaridade_falecido_2010_agr', 'escolaridade_mae_2010_agr',\n",
       "       'semanas_gestacao', 'diferenca_data', 'data_conclusao_investigacao',\n",
       "       'data_conclusao_caso', 'numero_dias_obito_investigacao',\n",
       "       'id_municipio_naturalidade', 'descricao_estabelecimento', 'crm',\n",
       "       'numero_lote', 'status_codificadora', 'codificado', 'versao_sistema',\n",
       "       'versao_scb', 'atestado', 'numero_dias_obito_ficha', 'fontes',\n",
       "       'tipo_resgate_informacao', 'tipo_nivel_investigador',\n",
       "       'numero_dias_informacao', 'fontes_informacao', 'alt_causa'],\n",
       "      dtype='object')"
      ]
     },
     "execution_count": 44,
     "metadata": {},
     "output_type": "execute_result"
    }
   ],
   "source": [
    "# get the headers\n",
    "\n",
    "sim_header = bd.read_sql(query=\"\"\" SELECT * FROM basedosdados.br_ms_sim.microdados LIMIT 0 \"\"\",\n",
    "                          billing_project_id='explorando-basedosdados')\n",
    "sim_columns = sim_header.columns\n",
    "sim_columns"
   ]
  },
  {
   "cell_type": "code",
   "execution_count": 33,
   "metadata": {},
   "outputs": [
    {
     "name": "stderr",
     "output_type": "stream",
     "text": [
      "Downloading: 100%|██████████| 557/557 [00:02<00:00, 199.67rows/s]\n"
     ]
    },
    {
     "data": {
      "text/html": [
       "<div>\n",
       "<style scoped>\n",
       "    .dataframe tbody tr th:only-of-type {\n",
       "        vertical-align: middle;\n",
       "    }\n",
       "\n",
       "    .dataframe tbody tr th {\n",
       "        vertical-align: top;\n",
       "    }\n",
       "\n",
       "    .dataframe thead th {\n",
       "        text-align: right;\n",
       "    }\n",
       "</style>\n",
       "<table border=\"1\" class=\"dataframe\">\n",
       "  <thead>\n",
       "    <tr style=\"text-align: right;\">\n",
       "      <th></th>\n",
       "      <th>coluna</th>\n",
       "      <th>chave</th>\n",
       "      <th>valor</th>\n",
       "    </tr>\n",
       "  </thead>\n",
       "  <tbody>\n",
       "    <tr>\n",
       "      <th>0</th>\n",
       "      <td>tipo_obito</td>\n",
       "      <td>1</td>\n",
       "      <td>Fetal</td>\n",
       "    </tr>\n",
       "    <tr>\n",
       "      <th>1</th>\n",
       "      <td>tipo_obito</td>\n",
       "      <td>2</td>\n",
       "      <td>Não-fetal</td>\n",
       "    </tr>\n",
       "    <tr>\n",
       "      <th>2</th>\n",
       "      <td>naturalidade</td>\n",
       "      <td>1</td>\n",
       "      <td>ABU DABI</td>\n",
       "    </tr>\n",
       "    <tr>\n",
       "      <th>3</th>\n",
       "      <td>naturalidade</td>\n",
       "      <td>2</td>\n",
       "      <td>ACORES</td>\n",
       "    </tr>\n",
       "    <tr>\n",
       "      <th>4</th>\n",
       "      <td>naturalidade</td>\n",
       "      <td>3</td>\n",
       "      <td>AFEGANISTAO</td>\n",
       "    </tr>\n",
       "    <tr>\n",
       "      <th>...</th>\n",
       "      <td>...</td>\n",
       "      <td>...</td>\n",
       "      <td>...</td>\n",
       "    </tr>\n",
       "    <tr>\n",
       "      <th>552</th>\n",
       "      <td>local_ocorrencia</td>\n",
       "      <td>1</td>\n",
       "      <td>Hospital</td>\n",
       "    </tr>\n",
       "    <tr>\n",
       "      <th>553</th>\n",
       "      <td>local_ocorrencia</td>\n",
       "      <td>2</td>\n",
       "      <td>Outro estabelecimento de saúde</td>\n",
       "    </tr>\n",
       "    <tr>\n",
       "      <th>554</th>\n",
       "      <td>local_ocorrencia</td>\n",
       "      <td>3</td>\n",
       "      <td>Domicílio</td>\n",
       "    </tr>\n",
       "    <tr>\n",
       "      <th>555</th>\n",
       "      <td>local_ocorrencia</td>\n",
       "      <td>4</td>\n",
       "      <td>Via pública</td>\n",
       "    </tr>\n",
       "    <tr>\n",
       "      <th>556</th>\n",
       "      <td>local_ocorrencia</td>\n",
       "      <td>5</td>\n",
       "      <td>Outros</td>\n",
       "    </tr>\n",
       "  </tbody>\n",
       "</table>\n",
       "<p>557 rows × 3 columns</p>\n",
       "</div>"
      ],
      "text/plain": [
       "               coluna chave                           valor\n",
       "0          tipo_obito     1                           Fetal\n",
       "1          tipo_obito     2                       Não-fetal\n",
       "2        naturalidade     1                        ABU DABI\n",
       "3        naturalidade     2                          ACORES\n",
       "4        naturalidade     3                     AFEGANISTAO\n",
       "..                ...   ...                             ...\n",
       "552  local_ocorrencia     1                        Hospital\n",
       "553  local_ocorrencia     2  Outro estabelecimento de saúde\n",
       "554  local_ocorrencia     3                       Domicílio\n",
       "555  local_ocorrencia     4                     Via pública\n",
       "556  local_ocorrencia     5                          Outros\n",
       "\n",
       "[557 rows x 3 columns]"
      ]
     },
     "execution_count": 33,
     "metadata": {},
     "output_type": "execute_result"
    }
   ],
   "source": [
    "# get dictionary to inform the column selection\n",
    "\n",
    "sim_dic = bd.read_sql(query=\"\"\" SELECT coluna, chave, valor\n",
    "                                FROM basedosdados.br_ms_sim.dicionario\n",
    "                                WHERE id_tabela = 'microdados'\"\"\",\n",
    "                          billing_project_id='explorando-basedosdados')\n",
    "sim_dic.to_csv('../data/sim_dic')\n",
    "\n",
    "# check if the time cover is unique\n",
    "# set(sim_dic.cobertura_temporal)\n",
    "sim_dic"
   ]
  },
  {
   "cell_type": "markdown",
   "metadata": {},
   "source": [
    "## Tools for explore the data"
   ]
  },
  {
   "cell_type": "code",
   "execution_count": 124,
   "metadata": {},
   "outputs": [
    {
     "data": {
      "text/html": [
       "<div>\n",
       "<style scoped>\n",
       "    .dataframe tbody tr th:only-of-type {\n",
       "        vertical-align: middle;\n",
       "    }\n",
       "\n",
       "    .dataframe tbody tr th {\n",
       "        vertical-align: top;\n",
       "    }\n",
       "\n",
       "    .dataframe thead th {\n",
       "        text-align: right;\n",
       "    }\n",
       "</style>\n",
       "<table border=\"1\" class=\"dataframe\">\n",
       "  <thead>\n",
       "    <tr style=\"text-align: right;\">\n",
       "      <th></th>\n",
       "      <th>coluna</th>\n",
       "      <th>chave</th>\n",
       "      <th>valor</th>\n",
       "    </tr>\n",
       "  </thead>\n",
       "  <tbody>\n",
       "  </tbody>\n",
       "</table>\n",
       "</div>"
      ],
      "text/plain": [
       "Empty DataFrame\n",
       "Columns: [coluna, chave, valor]\n",
       "Index: []"
      ]
     },
     "execution_count": 124,
     "metadata": {},
     "output_type": "execute_result"
    }
   ],
   "source": [
    "# consult a column in the data dictionary\n",
    "\n",
    "#%timeit sim_dic.query(\"coluna == 'tipo_obito'\")\n",
    "#%timeit sim_dic[ sim_dic['coluna'] == 'tipo_obito']\n",
    "# Plain python is faster than .query. \n",
    "\n",
    "\n",
    "#sim_dic[ sim_dic['coluna'] == 'local_ocorrencia']\n",
    "sim_dic[ sim_dic['coluna'].str.contains('alt_causa')]"
   ]
  },
  {
   "cell_type": "code",
   "execution_count": 128,
   "metadata": {},
   "outputs": [
    {
     "data": {
      "text/plain": [
       "['fontes_informacao', 'alt_causa']"
      ]
     },
     "execution_count": 128,
     "metadata": {},
     "output_type": "execute_result"
    }
   ],
   "source": [
    "# Slicer to flick thougth the list of columns \n",
    "x = 9\n",
    "sim_columns[10*x:(x*10 + 10)].to_list()"
   ]
  },
  {
   "cell_type": "markdown",
   "metadata": {},
   "source": [
    "## Using the tools to slice 10 coluns and investigate their values on the dictionary we selected the columns of interest"
   ]
  },
  {
   "cell_type": "code",
   "execution_count": 131,
   "metadata": {},
   "outputs": [
    {
     "data": {
      "text/plain": [
       "{'alt_causa',\n",
       " 'causa_basica_original',\n",
       " 'causa_basica_pre',\n",
       " 'data_atestado',\n",
       " 'descricao_estabelecimento',\n",
       " 'diferenca_data',\n",
       " 'escolaridade_2010',\n",
       " 'escolaridade_falecido_2010_agrescolaridade_mae_2010_agr',\n",
       " 'escolaridade_mae_2010',\n",
       " 'fonte',\n",
       " 'id_municipio_svo_imlcausa_materna',\n",
       " 'serie_escolar_falecido',\n",
       " 'serie_escolar_mae',\n",
       " 'status_do_epidem',\n",
       " 'status_do_nova'}"
      ]
     },
     "execution_count": 131,
     "metadata": {},
     "output_type": "execute_result"
    }
   ],
   "source": [
    "# Manually selected columns of interest.\n",
    "# todo: investigate col to refine selection\n",
    "\n",
    "sim_selected_col_loose = {'ano',\n",
    "                          'sigla_uf',\n",
    "                          'causa_basica',\n",
    "                          'data_obito',\n",
    "                          'hora_obito',\n",
    "                          'data_nascimento',\n",
    "                          'idade'\n",
    "                          'sexo',\n",
    "                          'raca_cor',\n",
    "                          'estado_civil',\n",
    "                          'escolaridade',\n",
    "                          'ocupacao',\n",
    "                          'id_municipio_residencia',\n",
    "                          'local_ocorrencia',\n",
    "                          'codigo_bairro_ocorrencia',\n",
    "                          'id_municipio_ocorrencia',\n",
    "                          'idade_mae',\n",
    "                          'escolaridade_mae',\n",
    "                          'ocupacao_mae',\n",
    "                          'quantidade_filhos_vivos',\n",
    "                          'quantidade_filhos_mortos',\n",
    "                          'peso',\n",
    "                          'assistencia_medica',\n",
    "                          'circunstancia_obito',\n",
    "                          'acidente_trabalho',\n",
    "                          'fonte',\n",
    "                          'data_atestado',\n",
    "                          'causa_basica_original',\n",
    "                          'causa_basica_pre',\n",
    "                          'id_municipio_svo_iml'\n",
    "                          'causa_materna',\n",
    "                          'status_do_epidem',\n",
    "                          'status_do_nova',\n",
    "                          'serie_escolar_falecido',\n",
    "                          'serie_escolar_mae',\n",
    "                          'escolaridade_2010',\n",
    "                          'escolaridade_mae_2010',\n",
    "                          'escolaridade_falecido_2010_agr'\n",
    "                          'escolaridade_mae_2010_agr',\n",
    "                          'diferenca_data',\n",
    "                          'id_municipio_naturalidade',\n",
    "                          'descricao_estabelecimento',\n",
    "                          'alt_causa'}\n",
    "\n",
    "sim_selected_col = {'ano',\n",
    "                    'sigla_uf',\n",
    "                    'causa_basica',\n",
    "                    'data_obito',\n",
    "                    'hora_obito',\n",
    "                    'data_nascimento',\n",
    "                    'idade'\n",
    "                    'sexo',\n",
    "                    'raca_cor',\n",
    "                    'estado_civil',\n",
    "                    'escolaridade',\n",
    "                    'ocupacao',\n",
    "                    'id_municipio_residencia',\n",
    "                    'local_ocorrencia',\n",
    "                    'codigo_bairro_ocorrencia',\n",
    "                    'id_municipio_ocorrencia',\n",
    "                    'idade_mae',\n",
    "                    'escolaridade_mae',\n",
    "                    'ocupacao_mae',\n",
    "                    'quantidade_filhos_vivos',\n",
    "                    'quantidade_filhos_mortos',\n",
    "                    'peso',\n",
    "                    'assistencia_medica',\n",
    "                    'circunstancia_obito',\n",
    "                    'acidente_trabalho',\n",
    "                    'id_municipio_naturalidade'}\n",
    "\n",
    "\n",
    "sim_col_investigate = set.difference(sim_selected_col_loose, sim_selected_col)\n",
    "sim_col_investigate"
   ]
  }
 ],
 "metadata": {
  "interpreter": {
   "hash": "7430bd742c5551715659a7cd2990148b3a3d3e30f9dfb052e3eed9d52fc48a1e"
  },
  "kernelspec": {
   "display_name": "Python 3.9.7 64-bit ('base': conda)",
   "language": "python",
   "name": "python3"
  },
  "language_info": {
   "codemirror_mode": {
    "name": "ipython",
    "version": 3
   },
   "file_extension": ".py",
   "mimetype": "text/x-python",
   "name": "python",
   "nbconvert_exporter": "python",
   "pygments_lexer": "ipython3",
   "version": "3.9.7"
  },
  "orig_nbformat": 4
 },
 "nbformat": 4,
 "nbformat_minor": 2
}
