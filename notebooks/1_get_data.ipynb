{
 "cells": [
  {
   "cell_type": "code",
   "execution_count": 1,
   "metadata": {},
   "outputs": [],
   "source": [
    "import basedosdados as bd"
   ]
  },
  {
   "cell_type": "code",
   "execution_count": 19,
   "metadata": {},
   "outputs": [
    {
     "name": "stderr",
     "output_type": "stream",
     "text": [
      "Downloading: 0rows [00:00, ?rows/s]\n"
     ]
    },
    {
     "data": {
      "text/plain": [
       "Index(['ano', 'sigla_uf', 'sequencial_obito', 'tipo_obito', 'causa_basica',\n",
       "       'data_obito', 'hora_obito', 'naturalidade', 'data_nascimento', 'idade',\n",
       "       'sexo', 'raca_cor', 'estado_civil', 'escolaridade', 'ocupacao',\n",
       "       'codigo_bairro_residencia', 'id_municipio_residencia',\n",
       "       'local_ocorrencia', 'codigo_bairro_ocorrencia',\n",
       "       'id_municipio_ocorrencia', 'idade_mae', 'escolaridade_mae',\n",
       "       'ocupacao_mae', 'quantidade_filhos_vivos', 'quantidade_filhos_mortos',\n",
       "       'gravidez', 'gestacao', 'parto', 'obito_parto', 'morte_parto', 'peso',\n",
       "       'obito_gravidez', 'obito_puerperio', 'assistencia_medica', 'exame',\n",
       "       'cirurgia', 'necropsia', 'linha_a', 'linha_b', 'linha_c', 'linha_d',\n",
       "       'linha_ii', 'circunstancia_obito', 'acidente_trabalho', 'fonte',\n",
       "       'codigo_estabelecimento', 'atestante', 'data_atestado', 'tipo_pos',\n",
       "       'data_investigacao', 'causa_basica_original', 'data_cadastro',\n",
       "       'fonte_investigacao', 'data_recebimento', 'causa_basica_pre',\n",
       "       'tipo_obito_ocorrencia', 'tipo_morte_ocorrencia',\n",
       "       'data_cadastro_informacao', 'data_cadastro_investigacao',\n",
       "       'id_municipio_svo_iml', 'data_recebimento_original',\n",
       "       'data_recebimento_original_a', 'causa_materna', 'status_do_epidem',\n",
       "       'status_do_nova', 'serie_escolar_falecido', 'serie_escolar_mae',\n",
       "       'escolaridade_2010', 'escolaridade_mae_2010',\n",
       "       'escolaridade_falecido_2010_agr', 'escolaridade_mae_2010_agr',\n",
       "       'semanas_gestacao', 'diferenca_data', 'data_conclusao_investigacao',\n",
       "       'data_conclusao_caso', 'numero_dias_obito_investigacao',\n",
       "       'id_municipio_naturalidade', 'descricao_estabelecimento', 'crm',\n",
       "       'numero_lote', 'status_codificadora', 'codificado', 'versao_sistema',\n",
       "       'versao_scb', 'atestado', 'numero_dias_obito_ficha', 'fontes',\n",
       "       'tipo_resgate_informacao', 'tipo_nivel_investigador',\n",
       "       'numero_dias_informacao', 'fontes_informacao', 'alt_causa'],\n",
       "      dtype='object')"
      ]
     },
     "execution_count": 19,
     "metadata": {},
     "output_type": "execute_result"
    }
   ],
   "source": [
    "# get the headers\n",
    "sim_header = bd.read_sql(query=\"\"\" SELECT * FROM basedosdados.br_ms_sim.microdados LIMIT 0 \"\"\",\n",
    "                          billing_project_id='explorando-basedosdados')\n",
    "sim_columns = sim_header.columns\n",
    "sim_columns"
   ]
  },
  {
   "cell_type": "code",
   "execution_count": 33,
   "metadata": {},
   "outputs": [
    {
     "name": "stderr",
     "output_type": "stream",
     "text": [
      "Downloading: 100%|██████████| 557/557 [00:02<00:00, 199.67rows/s]\n"
     ]
    },
    {
     "data": {
      "text/html": [
       "<div>\n",
       "<style scoped>\n",
       "    .dataframe tbody tr th:only-of-type {\n",
       "        vertical-align: middle;\n",
       "    }\n",
       "\n",
       "    .dataframe tbody tr th {\n",
       "        vertical-align: top;\n",
       "    }\n",
       "\n",
       "    .dataframe thead th {\n",
       "        text-align: right;\n",
       "    }\n",
       "</style>\n",
       "<table border=\"1\" class=\"dataframe\">\n",
       "  <thead>\n",
       "    <tr style=\"text-align: right;\">\n",
       "      <th></th>\n",
       "      <th>coluna</th>\n",
       "      <th>chave</th>\n",
       "      <th>valor</th>\n",
       "    </tr>\n",
       "  </thead>\n",
       "  <tbody>\n",
       "    <tr>\n",
       "      <th>0</th>\n",
       "      <td>tipo_obito</td>\n",
       "      <td>1</td>\n",
       "      <td>Fetal</td>\n",
       "    </tr>\n",
       "    <tr>\n",
       "      <th>1</th>\n",
       "      <td>tipo_obito</td>\n",
       "      <td>2</td>\n",
       "      <td>Não-fetal</td>\n",
       "    </tr>\n",
       "    <tr>\n",
       "      <th>2</th>\n",
       "      <td>naturalidade</td>\n",
       "      <td>1</td>\n",
       "      <td>ABU DABI</td>\n",
       "    </tr>\n",
       "    <tr>\n",
       "      <th>3</th>\n",
       "      <td>naturalidade</td>\n",
       "      <td>2</td>\n",
       "      <td>ACORES</td>\n",
       "    </tr>\n",
       "    <tr>\n",
       "      <th>4</th>\n",
       "      <td>naturalidade</td>\n",
       "      <td>3</td>\n",
       "      <td>AFEGANISTAO</td>\n",
       "    </tr>\n",
       "    <tr>\n",
       "      <th>...</th>\n",
       "      <td>...</td>\n",
       "      <td>...</td>\n",
       "      <td>...</td>\n",
       "    </tr>\n",
       "    <tr>\n",
       "      <th>552</th>\n",
       "      <td>local_ocorrencia</td>\n",
       "      <td>1</td>\n",
       "      <td>Hospital</td>\n",
       "    </tr>\n",
       "    <tr>\n",
       "      <th>553</th>\n",
       "      <td>local_ocorrencia</td>\n",
       "      <td>2</td>\n",
       "      <td>Outro estabelecimento de saúde</td>\n",
       "    </tr>\n",
       "    <tr>\n",
       "      <th>554</th>\n",
       "      <td>local_ocorrencia</td>\n",
       "      <td>3</td>\n",
       "      <td>Domicílio</td>\n",
       "    </tr>\n",
       "    <tr>\n",
       "      <th>555</th>\n",
       "      <td>local_ocorrencia</td>\n",
       "      <td>4</td>\n",
       "      <td>Via pública</td>\n",
       "    </tr>\n",
       "    <tr>\n",
       "      <th>556</th>\n",
       "      <td>local_ocorrencia</td>\n",
       "      <td>5</td>\n",
       "      <td>Outros</td>\n",
       "    </tr>\n",
       "  </tbody>\n",
       "</table>\n",
       "<p>557 rows × 3 columns</p>\n",
       "</div>"
      ],
      "text/plain": [
       "               coluna chave                           valor\n",
       "0          tipo_obito     1                           Fetal\n",
       "1          tipo_obito     2                       Não-fetal\n",
       "2        naturalidade     1                        ABU DABI\n",
       "3        naturalidade     2                          ACORES\n",
       "4        naturalidade     3                     AFEGANISTAO\n",
       "..                ...   ...                             ...\n",
       "552  local_ocorrencia     1                        Hospital\n",
       "553  local_ocorrencia     2  Outro estabelecimento de saúde\n",
       "554  local_ocorrencia     3                       Domicílio\n",
       "555  local_ocorrencia     4                     Via pública\n",
       "556  local_ocorrencia     5                          Outros\n",
       "\n",
       "[557 rows x 3 columns]"
      ]
     },
     "execution_count": 33,
     "metadata": {},
     "output_type": "execute_result"
    }
   ],
   "source": [
    "# get dictionary to inform the column selection\n",
    "sim_dic = bd.read_sql(query=\"\"\" SELECT coluna, chave, valor\n",
    "                                FROM basedosdados.br_ms_sim.dicionario\n",
    "                                WHERE id_tabela = 'microdados'\"\"\",\n",
    "                          billing_project_id='explorando-basedosdados')\n",
    "sim_dic.to_csv('../data/sim_dic')\n",
    "\n",
    "# check if the time cover is unique\n",
    "# set(sim_dic.cobertura_temporal)\n",
    "sim_dic"
   ]
  },
  {
   "cell_type": "code",
   "execution_count": 41,
   "metadata": {},
   "outputs": [
    {
     "name": "stdout",
     "output_type": "stream",
     "text": [
      "649 µs ± 18.2 µs per loop (mean ± std. dev. of 7 runs, 1,000 loops each)\n"
     ]
    }
   ],
   "source": [
    "# consult a column \n",
    "#%timeit sim_dic.query(\"coluna == 'tipo_obito'\")\n",
    "#%timeit sim_dic[ sim_dic['coluna'] == 'tipo_obito']\n",
    "# Plain python is faster than .query\n",
    "\n",
    "sim_dic[ sim_dic['coluna'] == 'tipo_obito']"
   ]
  }
 ],
 "metadata": {
  "interpreter": {
   "hash": "7430bd742c5551715659a7cd2990148b3a3d3e30f9dfb052e3eed9d52fc48a1e"
  },
  "kernelspec": {
   "display_name": "Python 3.9.7 64-bit ('base': conda)",
   "language": "python",
   "name": "python3"
  },
  "language_info": {
   "codemirror_mode": {
    "name": "ipython",
    "version": 3
   },
   "file_extension": ".py",
   "mimetype": "text/x-python",
   "name": "python",
   "nbconvert_exporter": "python",
   "pygments_lexer": "ipython3",
   "version": "3.9.7"
  },
  "orig_nbformat": 4
 },
 "nbformat": 4,
 "nbformat_minor": 2
}
