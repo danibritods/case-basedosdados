{
 "cells": [
  {
   "cell_type": "markdown",
   "metadata": {},
   "source": [
    "# Is there any relationship between suicides and forest area?"
   ]
  },
  {
   "cell_type": "markdown",
   "metadata": {},
   "source": [
    "Required tools and libraries in this analysis:"
   ]
  },
  {
   "cell_type": "code",
   "execution_count": 1,
   "metadata": {},
   "outputs": [],
   "source": [
    "import pandas as pd\n",
    "import basedosdados as bd"
   ]
  },
  {
   "cell_type": "markdown",
   "metadata": {},
   "source": [
    "## Available data\n",
    "### To approach this question we'll consider the following datasets:\n",
    "#### 1. [Sistema de Informações sobre Mortalidade (SIM)](https://basedosdados.org/dataset/br-ms-sim?bdm_table=microdados)\n",
    "CID-10 codes of interest: X60-X84 e Y87.0 \n",
    "\n",
    "#### 2. [Censo Agropecuário](https://basedosdados.org/dataset/br-ibge-censo-agropecuario?bdm_table=municipio)\n",
    "\n",
    "\n",
    "#### 3. [População brasileira](https://basedosdados.org/dataset/br-ms-populacao?bdm_table=municipio)\n",
    "\n",
    "\n",
    "### References:\n",
    "- [1] [Mortalidade por suicídio e notificações de lesões autoprovocadas no Brasil](https://www.gov.br/saude/pt-br/centrais-de-conteudo/publicacoes/boletins/epidemiologicos/edicoes/2021/boletim_epidemiologico_svs_33_final.pdf)"
   ]
  },
  {
   "cell_type": "markdown",
   "metadata": {},
   "source": [
    "## Simplest case \n",
    "At first, lets focus on the year of 2017, as it is covered by all datasets and the most recent available Censo Agropecuário."
   ]
  },
  {
   "cell_type": "code",
   "execution_count": 45,
   "metadata": {},
   "outputs": [
    {
     "data": {
      "text/html": [
       "<div>\n",
       "<style scoped>\n",
       "    .dataframe tbody tr th:only-of-type {\n",
       "        vertical-align: middle;\n",
       "    }\n",
       "\n",
       "    .dataframe tbody tr th {\n",
       "        vertical-align: top;\n",
       "    }\n",
       "\n",
       "    .dataframe thead th {\n",
       "        text-align: right;\n",
       "    }\n",
       "</style>\n",
       "<table border=\"1\" class=\"dataframe\">\n",
       "  <thead>\n",
       "    <tr style=\"text-align: right;\">\n",
       "      <th></th>\n",
       "      <th>id_municipio</th>\n",
       "      <th>numero_obitos</th>\n",
       "    </tr>\n",
       "  </thead>\n",
       "  <tbody>\n",
       "    <tr>\n",
       "      <th>0</th>\n",
       "      <td>1600303</td>\n",
       "      <td>31</td>\n",
       "    </tr>\n",
       "    <tr>\n",
       "      <th>1</th>\n",
       "      <td>1600402</td>\n",
       "      <td>2</td>\n",
       "    </tr>\n",
       "    <tr>\n",
       "      <th>2</th>\n",
       "      <td>1600535</td>\n",
       "      <td>1</td>\n",
       "    </tr>\n",
       "    <tr>\n",
       "      <th>3</th>\n",
       "      <td>1200203</td>\n",
       "      <td>6</td>\n",
       "    </tr>\n",
       "    <tr>\n",
       "      <th>4</th>\n",
       "      <td>1200252</td>\n",
       "      <td>2</td>\n",
       "    </tr>\n",
       "    <tr>\n",
       "      <th>...</th>\n",
       "      <td>...</td>\n",
       "      <td>...</td>\n",
       "    </tr>\n",
       "    <tr>\n",
       "      <th>3139</th>\n",
       "      <td>3556305</td>\n",
       "      <td>1</td>\n",
       "    </tr>\n",
       "    <tr>\n",
       "      <th>3140</th>\n",
       "      <td>3556354</td>\n",
       "      <td>1</td>\n",
       "    </tr>\n",
       "    <tr>\n",
       "      <th>3141</th>\n",
       "      <td>3556800</td>\n",
       "      <td>1</td>\n",
       "    </tr>\n",
       "    <tr>\n",
       "      <th>3142</th>\n",
       "      <td>3557105</td>\n",
       "      <td>7</td>\n",
       "    </tr>\n",
       "    <tr>\n",
       "      <th>3143</th>\n",
       "      <td>3557204</td>\n",
       "      <td>3</td>\n",
       "    </tr>\n",
       "  </tbody>\n",
       "</table>\n",
       "<p>3144 rows × 2 columns</p>\n",
       "</div>"
      ],
      "text/plain": [
       "      id_municipio  numero_obitos\n",
       "0          1600303             31\n",
       "1          1600402              2\n",
       "2          1600535              1\n",
       "3          1200203              6\n",
       "4          1200252              2\n",
       "...            ...            ...\n",
       "3139       3556305              1\n",
       "3140       3556354              1\n",
       "3141       3556800              1\n",
       "3142       3557105              7\n",
       "3143       3557204              3\n",
       "\n",
       "[3144 rows x 2 columns]"
      ]
     },
     "execution_count": 45,
     "metadata": {},
     "output_type": "execute_result"
    }
   ],
   "source": [
    "def get_sim_suic_municipio():\n",
    "    try:\n",
    "        return pd.read_csv('../data/sim_suic_municipio.csv')\n",
    "    except FileNotFoundError:\n",
    "\n",
    "        query = f\"\"\"\n",
    "                    SELECT id_municipio, SUM(numero_obitos) as numero_obitos\n",
    "                    FROM basedosdados.br_ms_sim.municipio_causa\n",
    "                    WHERE ano = 2017 \n",
    "                    AND (\n",
    "                        CONTAINS_SUBSTR(causa_basica, 'X6')\n",
    "                        OR CONTAINS_SUBSTR(causa_basica, 'X7')\n",
    "                        OR CONTAINS_SUBSTR(causa_basica, 'X8')\n",
    "                        OR causa_basica = 'Y870'\n",
    "                        )\n",
    "                    GROUP BY id_municipio\n",
    "                \"\"\"\n",
    "\n",
    "        sim_suic_municipio = bd.read_sql(query=query,\n",
    "                                         billing_project_id='explorando-basedosdados')\n",
    "        sim_suic_municipio.to_csv(\n",
    "            '../data/sim_suic_municipio.csv', index=False)\n",
    "        return sim_suic_municipio\n",
    "\n",
    "sim_suic_municipio = get_sim_suic_municipio()\n",
    "sim_suic_municipio"
   ]
  },
  {
   "cell_type": "code",
   "execution_count": null,
   "metadata": {},
   "outputs": [],
   "source": [
    "#todo: experiment with list comprehension instead of BigQueary CONTAINS_SUBSTR to generate the CID-10 code range\n",
    "# ['X'+ str(n) for n in range(600,841)]"
   ]
  },
  {
   "cell_type": "code",
   "execution_count": null,
   "metadata": {},
   "outputs": [],
   "source": []
  }
 ],
 "metadata": {
  "interpreter": {
   "hash": "7430bd742c5551715659a7cd2990148b3a3d3e30f9dfb052e3eed9d52fc48a1e"
  },
  "kernelspec": {
   "display_name": "Python 3.9.7 64-bit ('base': conda)",
   "language": "python",
   "name": "python3"
  },
  "language_info": {
   "codemirror_mode": {
    "name": "ipython",
    "version": 3
   },
   "file_extension": ".py",
   "mimetype": "text/x-python",
   "name": "python",
   "nbconvert_exporter": "python",
   "pygments_lexer": "ipython3",
   "version": "3.9.7"
  },
  "orig_nbformat": 4
 },
 "nbformat": 4,
 "nbformat_minor": 2
}
