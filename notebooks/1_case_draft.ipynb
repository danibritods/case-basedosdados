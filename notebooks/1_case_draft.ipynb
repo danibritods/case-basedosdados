{
 "cells": [
  {
   "cell_type": "markdown",
   "metadata": {},
   "source": [
    "# Is there any relationship between forest area and forest and suicides?"
   ]
  },
  {
   "cell_type": "markdown",
   "metadata": {},
   "source": [
    "Required tools and libraries in this analysis:"
   ]
  },
  {
   "cell_type": "code",
   "execution_count": 2,
   "metadata": {},
   "outputs": [],
   "source": [
    "import pandas as pd\n",
    "import basedosdados as bd\n",
    "\n",
    "%matplotlib inline"
   ]
  },
  {
   "cell_type": "markdown",
   "metadata": {},
   "source": [
    "## Available data\n",
    "### To approach this question we'll consider the following datasets:\n",
    "#### 1. [Sistema de Informações sobre Mortalidade (SIM)](https://basedosdados.org/dataset/br-ms-sim?bdm_table=microdados)\n",
    "Brazilian Health Ministry's report on mortality from 1996 to 2020.\n",
    "\n",
    "We'll consider all deaths with basic cause (causa_basica, CID-10) codes: X60-X84 and Y87.0 [1] \n",
    "\n",
    "\n",
    "#### 2. [Censo Agropecuário](https://basedosdados.org/dataset/br-ibge-censo-agropecuario?bdm_table=municipio)\n",
    "Brazilian Institute of Geography and Statistics' report on agriculture census from 1985 to 2017.\n",
    " \n",
    "#### 3. [População brasileira](https://basedosdados.org/dataset/br_ibge_populacao?bdm_table=municipio)\n",
    "Brazilian Institute of Geography and Statistics' report on estimated population from 1991 to 2021.\n",
    "\n",
    "\n",
    "### References:\n",
    "- [1] [Mortalidade por suicídio e notificações de lesões autoprovocadas no Brasil](https://www.gov.br/saude/pt-br/centrais-de-conteudo/publicacoes/boletins/epidemiologicos/edicoes/2021/boletim_epidemiologico_svs_33_final.pdf)"
   ]
  },
  {
   "cell_type": "markdown",
   "metadata": {},
   "source": [
    "## Study case: municipios, 2007 \n",
    "Lets focus on the year of 2017, as it is covered by all datasets and the most recent available Censo Agropecuário."
   ]
  },
  {
   "cell_type": "markdown",
   "metadata": {},
   "source": [
    "### Data gathering"
   ]
  },
  {
   "cell_type": "code",
   "execution_count": 3,
   "metadata": {},
   "outputs": [
    {
     "name": "stderr",
     "output_type": "stream",
     "text": [
      "Downloading: 100%|██████████| 3144/3144 [00:00<00:00, 4964.71rows/s]\n",
      "Downloading: 100%|██████████| 5563/5563 [00:00<00:00, 5797.82rows/s]\n",
      "Downloading: 100%|██████████| 3144/3144 [00:00<00:00, 6933.83rows/s]\n"
     ]
    }
   ],
   "source": [
    "class Get_data:    \n",
    "    def _unpack(self, l):\n",
    "        return \", \".join(map(str, l))\n",
    "\n",
    "    def _get_data(self, filename, query):\n",
    "        try:\n",
    "            return pd.read_csv(f'../data/{filename}.csv')\n",
    "        except FileNotFoundError:\n",
    "            df = bd.read_sql(query=query,\n",
    "                             billing_project_id='explorando-basedosdados')\n",
    "            df.to_csv(\n",
    "                f'../data/{filename}.csv', index=False)\n",
    "            return df\n",
    "\n",
    "    def sim_suic_municipio(self,year):\n",
    "        filename = f'sim_suic_municipio_{year}'\n",
    "        columns = ('id_municipio', 'SUM(numero_obitos) as numero_obitos')\n",
    "        query = f\"\"\"\n",
    "                SELECT \n",
    "                    {self._unpack(columns)}\n",
    "                FROM \n",
    "                    basedosdados.br_ms_sim.municipio_causa\n",
    "                WHERE \n",
    "                    ano = {year}\n",
    "                    AND (\n",
    "                        CONTAINS_SUBSTR(causa_basica, 'X6')\n",
    "                        OR CONTAINS_SUBSTR(causa_basica, 'X7')\n",
    "                        OR CONTAINS_SUBSTR(causa_basica, 'X8')\n",
    "                        OR causa_basica = 'Y870'\n",
    "                        )\n",
    "                    GROUP BY id_municipio\n",
    "                \"\"\"\n",
    "        return self._get_data(filename, query)\n",
    "\n",
    "    def agro_forest_municipio(self,year):\n",
    "        filename = f'agro_forest_municipio_{year}'\n",
    "        columns = ('id_municipio',\n",
    "                   'area_total',\n",
    "                   'area_mata_natural',\n",
    "                   'area_mata_plantada',\n",
    "                   'area_sistema_agroflorestal',\n",
    "                   'area_mata')\n",
    "        query = f\"\"\"\n",
    "                SELECT \n",
    "                    {self._unpack(columns)}\n",
    "                FROM \n",
    "                    basedosdados.br_ibge_censo_agropecuario.municipio\n",
    "                WHERE\n",
    "                    ano = {year}\n",
    "                    \"\"\"\n",
    "        return self._get_data(filename, query)\n",
    "\n",
    "    def sim_suic_pop_municipio(self,year):\n",
    "        query = f\"\"\"\n",
    "                WITH obitos AS \n",
    "                    (\n",
    "                        SELECT \n",
    "                            id_municipio, SUM(numero_obitos) as numero_obitos \n",
    "                        FROM \n",
    "                            basedosdados.br_ms_sim.municipio_causa\n",
    "                        WHERE \n",
    "                            ano = 2017 \n",
    "                        AND (\n",
    "                            CONTAINS_SUBSTR(causa_basica, 'X6')\n",
    "                            OR CONTAINS_SUBSTR(causa_basica, 'X7')\n",
    "                            OR CONTAINS_SUBSTR(causa_basica, 'X8')\n",
    "                            OR causa_basica = 'Y870'\n",
    "                            )\n",
    "                        GROUP BY \n",
    "                            id_municipio\n",
    "\n",
    "                    ), \n",
    "                    populacao AS \n",
    "                        (\n",
    "                            SELECT \n",
    "                                id_municipio, populacao \n",
    "                            FROM \n",
    "                                `basedosdados.br_ibge_populacao.municipio` \n",
    "                            WHERE \n",
    "                                ano = {year} \n",
    "\n",
    "                        )\n",
    "                SELECT \n",
    "                obitos.id_municipio, obitos.numero_obitos, populacao.populacao \n",
    "                FROM \n",
    "                obitos JOIN populacao ON obitos.id_municipio = populacao.id_municipio\n",
    "                \"\"\"\n",
    "        return self._get_data(f'sim_sui_pop_municipio_{year}',query)\n",
    "        \n",
    "\n",
    "\n",
    "get_data = Get_data()\n",
    "year = 2017\n",
    "sim_suic_2017 = get_data.sim_suic_municipio(year)\n",
    "agro_forest_2017 = get_data.agro_forest_municipio(year)\n",
    "sim_sui_pop_2017 = get_data.sim_suic_pop_municipio(year)\n"
   ]
  },
  {
   "cell_type": "code",
   "execution_count": 27,
   "metadata": {},
   "outputs": [
    {
     "data": {
      "text/html": [
       "<div>\n",
       "<style scoped>\n",
       "    .dataframe tbody tr th:only-of-type {\n",
       "        vertical-align: middle;\n",
       "    }\n",
       "\n",
       "    .dataframe tbody tr th {\n",
       "        vertical-align: top;\n",
       "    }\n",
       "\n",
       "    .dataframe thead th {\n",
       "        text-align: right;\n",
       "    }\n",
       "</style>\n",
       "<table border=\"1\" class=\"dataframe\">\n",
       "  <thead>\n",
       "    <tr style=\"text-align: right;\">\n",
       "      <th></th>\n",
       "      <th>id_municipio</th>\n",
       "      <th>numero_obitos</th>\n",
       "      <th>populacao</th>\n",
       "    </tr>\n",
       "  </thead>\n",
       "  <tbody>\n",
       "    <tr>\n",
       "      <th>0</th>\n",
       "      <td>1100015</td>\n",
       "      <td>3</td>\n",
       "      <td>25437</td>\n",
       "    </tr>\n",
       "    <tr>\n",
       "      <th>1</th>\n",
       "      <td>1100023</td>\n",
       "      <td>10</td>\n",
       "      <td>107345</td>\n",
       "    </tr>\n",
       "    <tr>\n",
       "      <th>2</th>\n",
       "      <td>1100049</td>\n",
       "      <td>5</td>\n",
       "      <td>88507</td>\n",
       "    </tr>\n",
       "    <tr>\n",
       "      <th>3</th>\n",
       "      <td>1100056</td>\n",
       "      <td>1</td>\n",
       "      <td>17934</td>\n",
       "    </tr>\n",
       "    <tr>\n",
       "      <th>4</th>\n",
       "      <td>1100064</td>\n",
       "      <td>2</td>\n",
       "      <td>18467</td>\n",
       "    </tr>\n",
       "  </tbody>\n",
       "</table>\n",
       "</div>"
      ],
      "text/plain": [
       "  id_municipio  numero_obitos  populacao\n",
       "0      1100015              3      25437\n",
       "1      1100023             10     107345\n",
       "2      1100049              5      88507\n",
       "3      1100056              1      17934\n",
       "4      1100064              2      18467"
      ]
     },
     "execution_count": 27,
     "metadata": {},
     "output_type": "execute_result"
    }
   ],
   "source": [
    "sim_sui_pop_2017.head()"
   ]
  },
  {
   "cell_type": "code",
   "execution_count": 28,
   "metadata": {},
   "outputs": [
    {
     "data": {
      "text/html": [
       "<div>\n",
       "<style scoped>\n",
       "    .dataframe tbody tr th:only-of-type {\n",
       "        vertical-align: middle;\n",
       "    }\n",
       "\n",
       "    .dataframe tbody tr th {\n",
       "        vertical-align: top;\n",
       "    }\n",
       "\n",
       "    .dataframe thead th {\n",
       "        text-align: right;\n",
       "    }\n",
       "</style>\n",
       "<table border=\"1\" class=\"dataframe\">\n",
       "  <thead>\n",
       "    <tr style=\"text-align: right;\">\n",
       "      <th></th>\n",
       "      <th>id_municipio</th>\n",
       "      <th>area_total</th>\n",
       "      <th>area_mata_natural</th>\n",
       "      <th>area_mata_plantada</th>\n",
       "      <th>area_sistema_agroflorestal</th>\n",
       "      <th>area_mata</th>\n",
       "    </tr>\n",
       "  </thead>\n",
       "  <tbody>\n",
       "    <tr>\n",
       "      <th>0</th>\n",
       "      <td>1100015</td>\n",
       "      <td>372746.0</td>\n",
       "      <td>108944.0</td>\n",
       "      <td>258.0</td>\n",
       "      <td>10481.0</td>\n",
       "      <td>109202.0</td>\n",
       "    </tr>\n",
       "    <tr>\n",
       "      <th>1</th>\n",
       "      <td>1100023</td>\n",
       "      <td>334256.0</td>\n",
       "      <td>88865.0</td>\n",
       "      <td>615.0</td>\n",
       "      <td>1573.0</td>\n",
       "      <td>89480.0</td>\n",
       "    </tr>\n",
       "    <tr>\n",
       "      <th>2</th>\n",
       "      <td>1100031</td>\n",
       "      <td>113085.0</td>\n",
       "      <td>17271.0</td>\n",
       "      <td>593.0</td>\n",
       "      <td>0.0</td>\n",
       "      <td>17864.0</td>\n",
       "    </tr>\n",
       "    <tr>\n",
       "      <th>3</th>\n",
       "      <td>1100049</td>\n",
       "      <td>221390.0</td>\n",
       "      <td>31620.0</td>\n",
       "      <td>180.0</td>\n",
       "      <td>0.0</td>\n",
       "      <td>31800.0</td>\n",
       "    </tr>\n",
       "    <tr>\n",
       "      <th>4</th>\n",
       "      <td>1100056</td>\n",
       "      <td>126686.0</td>\n",
       "      <td>27954.0</td>\n",
       "      <td>0.0</td>\n",
       "      <td>489.0</td>\n",
       "      <td>27954.0</td>\n",
       "    </tr>\n",
       "  </tbody>\n",
       "</table>\n",
       "</div>"
      ],
      "text/plain": [
       "  id_municipio  area_total  area_mata_natural  area_mata_plantada  \\\n",
       "0      1100015    372746.0           108944.0               258.0   \n",
       "1      1100023    334256.0            88865.0               615.0   \n",
       "2      1100031    113085.0            17271.0               593.0   \n",
       "3      1100049    221390.0            31620.0               180.0   \n",
       "4      1100056    126686.0            27954.0                 0.0   \n",
       "\n",
       "   area_sistema_agroflorestal  area_mata  \n",
       "0                     10481.0   109202.0  \n",
       "1                      1573.0    89480.0  \n",
       "2                         0.0    17864.0  \n",
       "3                         0.0    31800.0  \n",
       "4                       489.0    27954.0  "
      ]
     },
     "execution_count": 28,
     "metadata": {},
     "output_type": "execute_result"
    }
   ],
   "source": [
    "agro_forest_2017.head()"
   ]
  },
  {
   "cell_type": "markdown",
   "metadata": {},
   "source": [
    "## Results"
   ]
  },
  {
   "cell_type": "code",
   "execution_count": 34,
   "metadata": {},
   "outputs": [
    {
     "data": {
      "text/plain": [
       "<AxesSubplot:xlabel='taxa_mata', ylabel='taxa_obito_10k'>"
      ]
     },
     "execution_count": 34,
     "metadata": {},
     "output_type": "execute_result"
    },
    {
     "data": {
      "image/png": "[encoded data removed]",
      "text/plain": [
       "<Figure size 432x288 with 1 Axes>"
      ]
     },
     "metadata": {
      "needs_background": "light"
     },
     "output_type": "display_data"
    }
   ],
   "source": [
    "df_2017 = pd.merge(sim_sui_pop_2017, agro_forest_2017,\n",
    "                   how='left', on='id_municipio')\n",
    "df_2017['taxa_obito_10k'] = df_2017['numero_obitos'] / \\\n",
    "    df_2017['populacao'] * 10_000\n",
    "df_2017['taxa_mata'] = df_2017['area_mata'] / df_2017['area_total']\n",
    "df_2017.dropna()\n",
    "df_2017.plot(x='taxa_mata', y='taxa_obito_10k', kind='scatter')\n"
   ]
  },
  {
   "cell_type": "code",
   "execution_count": 32,
   "metadata": {},
   "outputs": [
    {
     "data": {
      "text/plain": [
       "0.024351890717812488"
      ]
     },
     "execution_count": 32,
     "metadata": {},
     "output_type": "execute_result"
    }
   ],
   "source": [
    "# Calculating Correlation\n",
    "\n",
    "df_2017['taxa_obito_10k'].corr(df_2017['taxa_mata'],method='spearman')"
   ]
  },
  {
   "cell_type": "code",
   "execution_count": 35,
   "metadata": {},
   "outputs": [
    {
     "data": {
      "text/plain": [
       "taxa_obito_10k                6.787954\n",
       "populacao                     1.765434\n",
       "area_total                    0.068866\n",
       "area_mata_natural             0.042441\n",
       "area_mata                     0.036551\n",
       "area_sistema_agroflorestal    0.023435\n",
       "area_mata_plantada            0.000000\n",
       "taxa_mata                     0.000000\n",
       "Name: MI Scores, dtype: float64"
      ]
     },
     "execution_count": 35,
     "metadata": {},
     "output_type": "execute_result"
    }
   ],
   "source": [
    "# Calculating Mutual Information\n",
    "# source: [Mutual Information](https://www.kaggle.com/code/ryanholbrook/mutual-information)\n",
    "from sklearn.feature_selection import mutual_info_regression\n",
    "\n",
    "\n",
    "def make_mi_scores(X, y, discrete_features):\n",
    "    mi_scores = mutual_info_regression(\n",
    "        X, y, discrete_features=discrete_features)\n",
    "    mi_scores = pd.Series(mi_scores, name=\"MI Scores\", index=X.columns)\n",
    "    mi_scores = mi_scores.sort_values(ascending=False)\n",
    "\n",
    "    return mi_scores\n",
    "\n",
    "\n",
    "df = df_2017.dropna()\n",
    "make_mi_scores(df.iloc[:, 2:], df.taxa_obito_10k, 'auto')\n"
   ]
  },
  {
   "cell_type": "code",
   "execution_count": 36,
   "metadata": {},
   "outputs": [
    {
     "data": {
      "text/plain": [
       "<AxesSubplot:xlabel='taxa_mata', ylabel='taxa_obito_10k'>"
      ]
     },
     "execution_count": 36,
     "metadata": {},
     "output_type": "execute_result"
    },
    {
     "data": {
      "image/png": "[encoded data removed]",
      "text/plain": [
       "<Figure size 432x288 with 1 Axes>"
      ]
     },
     "metadata": {
      "needs_background": "light"
     },
     "output_type": "display_data"
    }
   ],
   "source": [
    "get_data = Get_data()\n",
    "year = 2006\n",
    "agro_forest_2006 = get_data.agro_forest_municipio(year)\n",
    "sim_sui_pop_2006 = get_data.sim_suic_pop_municipio(year)\n",
    "\n",
    "df_2006 = pd.merge(sim_sui_pop_2006, agro_forest_2006,\n",
    "                   how='left', on='id_municipio')\n",
    "df_2006['taxa_obito_10k'] = df_2006['numero_obitos'] / \\\n",
    "    df_2006['populacao'] * 10_000\n",
    "df_2006['taxa_mata'] = df_2006['area_mata'] / df_2006['area_total']\n",
    "df_2006.plot(x='taxa_mata', y='taxa_obito_10k', kind='scatter')\n"
   ]
  },
  {
   "cell_type": "markdown",
   "metadata": {},
   "source": [
    "## Conclusions\n",
    "To explore the possible relation between forest area and suicide rate we gather and combined data on mortality, agricultural census and Brazilian population. Stablished the two variables of interest: the couties' rates of forest (forest area over total area) and suicide (# suicides over population). \n",
    "\n",
    "We've used a scatter plot to visualize the data distribution considering suicide rate x forest rate. Complemented by correlation and mutual information scores of the variables. \n",
    "\n",
    "As we were expecting, it does't seem the exist a simple, strong, relation between suicides and forest area in Brazilian counties. \n",
    "At least in the year of 2017, at least within the limited scope of this brief exploration.\n",
    "\n",
    "In fact, from the considered variables, population and total area of counties seem the be the most relavant. \n",
    "\n",
    "Further research considering economic and social factors from counties, such as median income, gdp per capita, occupation and education could further elucidate this complex matter."
   ]
  }
 ],
 "metadata": {
  "interpreter": {
   "hash": "7430bd742c5551715659a7cd2990148b3a3d3e30f9dfb052e3eed9d52fc48a1e"
  },
  "kernelspec": {
   "display_name": "Python 3 (ipykernel)",
   "language": "python",
   "name": "python3"
  },
  "language_info": {
   "codemirror_mode": {
    "name": "ipython",
    "version": 3
   },
   "file_extension": ".py",
   "mimetype": "text/x-python",
   "name": "python",
   "nbconvert_exporter": "python",
   "pygments_lexer": "ipython3",
   "version": "3.9.7"
  }
 },
 "nbformat": 4,
 "nbformat_minor": 2
}
